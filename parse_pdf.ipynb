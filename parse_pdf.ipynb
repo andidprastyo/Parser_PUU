{
 "cells": [
  {
   "cell_type": "code",
   "execution_count": 19,
   "metadata": {},
   "outputs": [
    {
     "name": "stdout",
     "output_type": "stream",
     "text": [
      "'permenkeu-no-13-PMK-06-2023-tahun-2023.pdf' Extracted. Data saved to 'json_output\\permenkeu-no-13-PMK-06-2023-tahun-2023.json'\n",
      "'permenkeu-no-14-PMK-07-2023-tahun-2023.pdf' Extracted. Data saved to 'json_output\\permenkeu-no-14-PMK-07-2023-tahun-2023.json'\n",
      "'permenkeu-no-2-pmk-09-2023-tahun-2023.pdf' Extracted. Data saved to 'json_output\\permenkeu-no-2-pmk-09-2023-tahun-2023.json'\n",
      "'permenkeu-no-26-tahun-2023.pdf' Extracted. Data saved to 'json_output\\permenkeu-no-26-tahun-2023.json'\n",
      "'permenkeu-no-35-tahun-2023.pdf' Extracted. Data saved to 'json_output\\permenkeu-no-35-tahun-2023.json'\n",
      "'permenkeu-no-43-tahun-2023.pdf' Extracted. Data saved to 'json_output\\permenkeu-no-43-tahun-2023.json'\n",
      "'permenkeu-no-45-tahun-2023.pdf' Extracted. Data saved to 'json_output\\permenkeu-no-45-tahun-2023.json'\n",
      "'permenkeu-no-63-tahun-2023.pdf' Extracted. Data saved to 'json_output\\permenkeu-no-63-tahun-2023.json'\n",
      "'permenkeu-no-93-tahun-2023.pdf' Extracted. Data saved to 'json_output\\permenkeu-no-93-tahun-2023.json'\n",
      "'permenkeu-no-94-tahun-2023.pdf' Extracted. Data saved to 'json_output\\permenkeu-no-94-tahun-2023.json'\n"
     ]
    }
   ],
   "source": [
    "import fitz \n",
    "import json\n",
    "import os\n",
    "\n",
    "def parse_pdf(pdf_file):\n",
    "    \n",
    "    doc = fitz.open(pdf_file)\n",
    "    \n",
    "    # Data yang diambil\n",
    "    extracted_info = {\n",
    "        'title': '',\n",
    "        'content': []\n",
    "    }\n",
    "    \n",
    "    for page_num in range(len(doc)):\n",
    "        page = doc.load_page(page_num)\n",
    "        text = page.get_text()\n",
    "\n",
    "        if page_num == 0:\n",
    "            extracted_info['title'] = text.strip()\n",
    "\n",
    "        # Ekstrak data dari masing-masing halaman\n",
    "        content = {\n",
    "            'page_number': page_num + 1,\n",
    "            'text': text.strip()\n",
    "        }\n",
    "        extracted_info['content'].append(content)\n",
    "\n",
    "    doc.close()\n",
    "\n",
    "    return extracted_info\n",
    "\n",
    "def save_to_json(data, output_file):\n",
    "    with open(output_file, 'w') as f:\n",
    "        json.dump(data, f, indent=4)\n",
    "\n",
    "if __name__ == \"__main__\":\n",
    "    pdf_directory = 'Data'\n",
    "\n",
    "    output_directory = 'json_output'\n",
    "    if not os.path.exists(output_directory):\n",
    "        os.makedirs(output_directory)\n",
    "\n",
    "    for filename in os.listdir(pdf_directory):\n",
    "        if filename.endswith('.pdf'):\n",
    "            pdf_file_path = os.path.join(pdf_directory, filename)\n",
    "            extracted_data = parse_pdf(pdf_file_path)\n",
    "            output_json_file = os.path.join(output_directory, os.path.splitext(filename)[0] + '.json')\n",
    "            save_to_json(extracted_data, output_json_file)\n",
    "            print(f\"'{filename}' Extracted. Data saved to '{output_json_file}'\")\n"
   ]
  }
 ],
 "metadata": {
  "kernelspec": {
   "display_name": "Python 3",
   "language": "python",
   "name": "python3"
  },
  "language_info": {
   "codemirror_mode": {
    "name": "ipython",
    "version": 3
   },
   "file_extension": ".py",
   "mimetype": "text/x-python",
   "name": "python",
   "nbconvert_exporter": "python",
   "pygments_lexer": "ipython3",
   "version": "3.12.2"
  }
 },
 "nbformat": 4,
 "nbformat_minor": 2
}
